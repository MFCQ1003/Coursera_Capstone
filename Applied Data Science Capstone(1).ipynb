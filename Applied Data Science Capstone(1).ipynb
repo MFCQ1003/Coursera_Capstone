{
    "cells": [
        {
            "metadata": {
                "collapsed": true
            },
            "cell_type": "markdown",
            "source": "# Applied Data Science Capstone - The Battle of Neighborhoods (1)"
        },
        {
            "metadata": {},
            "cell_type": "markdown",
            "source": "## 1. Introduction"
        },
        {
            "metadata": {},
            "cell_type": "markdown",
            "source": "### 1.1. Background"
        },
        {
            "metadata": {},
            "cell_type": "markdown",
            "source": "Every year disasters cause suffering in different parts of the world and humanitarian logistic has a vital role in minimimizing the suffering of the people. \nOne of the challenges that humanitarian logistic has to face is the uncertainty of the demand, and determine the location of warehouses of relief good is a important work because it will affect directly in the speed of the distribution of relief goods postdisaster, these goood could be water, food, medicines, etc.\n\nActually Lima, Per\u00fa is located in the The Pacific Ring of Fire and an earthquake could happen in anytime, a short term decision to minimize the sufferinf of the possible casualties is to determine the best location for a warehouse of relief good and data science can help to solve this problem properly using like clustering considerating the population and seismic risk of each Boroughs of Lima, Per\u00fa."
        },
        {
            "metadata": {},
            "cell_type": "markdown",
            "source": "### 1.2. Problem\n\nDetermine the localization of a warehouse of relief good in Lima, Per\u00fa."
        },
        {
            "metadata": {},
            "cell_type": "markdown",
            "source": "### 1.3. Audience\n\nThe target audience is the Institute of Civil Defense of Per\u00fa, this organization is in charge to the location and building of the warehouse of relief goods.\n"
        },
        {
            "metadata": {},
            "cell_type": "markdown",
            "source": "## 2. Data Section"
        },
        {
            "metadata": {},
            "cell_type": "markdown",
            "source": "### 2.1. Data requirement\n\nThe following data is required to solve the problem:\n\n* List of Boroughs of Lima\n* Geodata of each Boroughs (latitud and longitud)\n* Population of each Boroughs\n* seismic risk of each Boroughs\n\nIts require use Foursquare and geopy data to map the location of Boroughs and to cluster in groups. \nAfter it will created a map that depicts the average population and seismic risk per cluster and choose the best cluster to locate the warehouse."
        }
    ],
    "metadata": {
        "kernelspec": {
            "name": "python3",
            "display_name": "Python 3.6",
            "language": "python"
        },
        "language_info": {
            "name": "python",
            "version": "3.6.9",
            "mimetype": "text/x-python",
            "codemirror_mode": {
                "name": "ipython",
                "version": 3
            },
            "pygments_lexer": "ipython3",
            "nbconvert_exporter": "python",
            "file_extension": ".py"
        }
    },
    "nbformat": 4,
    "nbformat_minor": 1
}